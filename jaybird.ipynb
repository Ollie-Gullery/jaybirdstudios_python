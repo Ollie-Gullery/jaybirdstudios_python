{
 "cells": [
  {
   "cell_type": "markdown",
   "metadata": {},
   "source": [
    "## Analyst Excercise Jaybird Studios & Lagree West\n",
    "\n",
    "#### Oliver Gullery | August 2nd, 2024\n",
    "\n",
    "Brief Python Exploratory Analysis of Order Detail Worksheet\n",
    "\n",
    "*Notable Libraries Used:*\n",
    "- Pandas\n",
    "- NumPy\n",
    "- Matplotlib\n",
    "- OpenPyXL\n",
    "\n"
   ]
  },
  {
   "cell_type": "code",
   "execution_count": 9,
   "metadata": {},
   "outputs": [],
   "source": [
    "import openpyxl\n",
    "import pandas as pd\n",
    "import numpy as np\n",
    "import matplotlib.pyplot as plt\n",
    "import seaborn as sns\n",
    "import csv"
   ]
  },
  {
   "cell_type": "markdown",
   "metadata": {},
   "source": [
    "## A. Reading the Excel File and Converting Order Detail Worksheet to a csv"
   ]
  },
  {
   "cell_type": "code",
   "execution_count": 13,
   "metadata": {},
   "outputs": [
    {
     "name": "stdout",
     "output_type": "stream",
     "text": [
      "Sheet 'Order Detail' from Excel file 'Analyst Exercise Data Set.xlsx' has been converted to CSV file 'order_detail.csv'.\n"
     ]
    }
   ],
   "source": [
    "excel_file = 'Analyst Exercise Data Set.xlsx'\n",
    "workbook = openpyxl.load_workbook(excel_file)\n",
    "\n",
    "# Select the sheet named \"Order Detail\"\n",
    "sheet_name = 'Order Detail'\n",
    "if sheet_name in workbook.sheetnames:\n",
    "    sheet = workbook[sheet_name]\n",
    "else:\n",
    "    raise ValueError(f\"Sheet '{sheet_name}' not found in the workbook.\")\n",
    "\n",
    "# Create a CSV file\n",
    "csv_file = 'order_detail.csv'\n",
    "with open(csv_file, mode='w', newline='') as file:\n",
    "    writer = csv.writer(file)\n",
    "\n",
    "    # Write the rows from the Excel sheet to the CSV file\n",
    "    for row in sheet.iter_rows(values_only=True):\n",
    "        writer.writerow(row)\n",
    "\n",
    "print(f\"Sheet '{sheet_name}' from Excel file '{excel_file}' has been converted to CSV file '{csv_file}'.\")"
   ]
  },
  {
   "cell_type": "markdown",
   "metadata": {},
   "source": [
    "## B. Reading the Data"
   ]
  },
  {
   "cell_type": "code",
   "execution_count": 38,
   "metadata": {},
   "outputs": [
    {
     "data": {
      "text/html": [
       "<div>\n",
       "<style scoped>\n",
       "    .dataframe tbody tr th:only-of-type {\n",
       "        vertical-align: middle;\n",
       "    }\n",
       "\n",
       "    .dataframe tbody tr th {\n",
       "        vertical-align: top;\n",
       "    }\n",
       "\n",
       "    .dataframe thead th {\n",
       "        text-align: right;\n",
       "    }\n",
       "</style>\n",
       "<table border=\"1\" class=\"dataframe\">\n",
       "  <thead>\n",
       "    <tr style=\"text-align: right;\">\n",
       "      <th></th>\n",
       "      <th>Order Number</th>\n",
       "      <th>Order Status</th>\n",
       "      <th>Order Date (UTC)</th>\n",
       "      <th>Order Time (UTC)</th>\n",
       "      <th>Order Device</th>\n",
       "      <th>Processed by System?</th>\n",
       "      <th>Customer ID</th>\n",
       "      <th>Broker ID</th>\n",
       "      <th>Product</th>\n",
       "      <th>Product ID</th>\n",
       "      <th>...</th>\n",
       "      <th>Line Subtotal</th>\n",
       "      <th>Original Price</th>\n",
       "      <th>Line Tax</th>\n",
       "      <th>Line Total</th>\n",
       "      <th>Order Payment Method(s)</th>\n",
       "      <th>Purchase Location</th>\n",
       "      <th>Fulfillment Location</th>\n",
       "      <th>Fulfillment Region</th>\n",
       "      <th>Unnamed: 28</th>\n",
       "      <th>Unnamed: 29</th>\n",
       "    </tr>\n",
       "  </thead>\n",
       "  <tbody>\n",
       "    <tr>\n",
       "      <th>0</th>\n",
       "      <td>GCRM-AT7M-559H</td>\n",
       "      <td>Completed</td>\n",
       "      <td>2024-01-01 00:00:00</td>\n",
       "      <td>1900-01-01 15:07:00</td>\n",
       "      <td>desktop</td>\n",
       "      <td>False</td>\n",
       "      <td>54654.0</td>\n",
       "      <td>54654.0</td>\n",
       "      <td>TNA x Jaybird Cozy Fleece Boyfriend Hold Space...</td>\n",
       "      <td>15159.0</td>\n",
       "      <td>...</td>\n",
       "      <td>0.0</td>\n",
       "      <td>105.0</td>\n",
       "      <td>0.00</td>\n",
       "      <td>0.00</td>\n",
       "      <td>No Charge</td>\n",
       "      <td>In-Store</td>\n",
       "      <td>Yorkville</td>\n",
       "      <td>Toronto</td>\n",
       "      <td>NaN</td>\n",
       "      <td>=sum(X2:X9254)</td>\n",
       "    </tr>\n",
       "    <tr>\n",
       "      <th>1</th>\n",
       "      <td>Y49A-P5DM-559H</td>\n",
       "      <td>Completed</td>\n",
       "      <td>2024-01-01 00:00:00</td>\n",
       "      <td>1900-01-01 15:29:00</td>\n",
       "      <td>desktop</td>\n",
       "      <td>False</td>\n",
       "      <td>82872.0</td>\n",
       "      <td>53590.0</td>\n",
       "      <td>Bottled Water- Toronto</td>\n",
       "      <td>14825.0</td>\n",
       "      <td>...</td>\n",
       "      <td>2.5</td>\n",
       "      <td>2.5</td>\n",
       "      <td>0.33</td>\n",
       "      <td>2.83</td>\n",
       "      <td>Mastercard</td>\n",
       "      <td>In-Store</td>\n",
       "      <td>Queen West</td>\n",
       "      <td>Toronto</td>\n",
       "      <td>NaN</td>\n",
       "      <td>NaN</td>\n",
       "    </tr>\n",
       "    <tr>\n",
       "      <th>2</th>\n",
       "      <td>SYHS-AZC9-559H</td>\n",
       "      <td>Completed</td>\n",
       "      <td>2024-01-01 00:00:00</td>\n",
       "      <td>1900-01-01 18:18:00</td>\n",
       "      <td>desktop</td>\n",
       "      <td>False</td>\n",
       "      <td>71125.0</td>\n",
       "      <td>80976.0</td>\n",
       "      <td>Bottled Water- Vancouver</td>\n",
       "      <td>14819.0</td>\n",
       "      <td>...</td>\n",
       "      <td>2.5</td>\n",
       "      <td>2.5</td>\n",
       "      <td>0.13</td>\n",
       "      <td>2.63</td>\n",
       "      <td>Visa</td>\n",
       "      <td>In-Store</td>\n",
       "      <td>Yaletown</td>\n",
       "      <td>Vancouver</td>\n",
       "      <td>NaN</td>\n",
       "      <td>=sum(V2:V9254)</td>\n",
       "    </tr>\n",
       "    <tr>\n",
       "      <th>3</th>\n",
       "      <td>HEYQ-7JPM-559H</td>\n",
       "      <td>Completed</td>\n",
       "      <td>2024-01-01 00:00:00</td>\n",
       "      <td>1900-01-01 19:48:00</td>\n",
       "      <td>desktop</td>\n",
       "      <td>False</td>\n",
       "      <td>35019.0</td>\n",
       "      <td>80976.0</td>\n",
       "      <td>Bottled Water- Vancouver</td>\n",
       "      <td>14819.0</td>\n",
       "      <td>...</td>\n",
       "      <td>2.5</td>\n",
       "      <td>2.5</td>\n",
       "      <td>0.13</td>\n",
       "      <td>2.63</td>\n",
       "      <td>Visa</td>\n",
       "      <td>In-Store</td>\n",
       "      <td>Yaletown</td>\n",
       "      <td>Vancouver</td>\n",
       "      <td>NaN</td>\n",
       "      <td>NaN</td>\n",
       "    </tr>\n",
       "    <tr>\n",
       "      <th>4</th>\n",
       "      <td>WAZY-9VGT-559H</td>\n",
       "      <td>Completed</td>\n",
       "      <td>2024-01-01 00:00:00</td>\n",
       "      <td>1900-01-01 19:59:00</td>\n",
       "      <td>desktop</td>\n",
       "      <td>False</td>\n",
       "      <td>37182.0</td>\n",
       "      <td>80976.0</td>\n",
       "      <td>Bottled Water- Vancouver</td>\n",
       "      <td>14819.0</td>\n",
       "      <td>...</td>\n",
       "      <td>2.5</td>\n",
       "      <td>2.5</td>\n",
       "      <td>0.13</td>\n",
       "      <td>2.63</td>\n",
       "      <td>Visa</td>\n",
       "      <td>In-Store</td>\n",
       "      <td>Yaletown</td>\n",
       "      <td>Vancouver</td>\n",
       "      <td>NaN</td>\n",
       "      <td>NaN</td>\n",
       "    </tr>\n",
       "  </tbody>\n",
       "</table>\n",
       "<p>5 rows × 30 columns</p>\n",
       "</div>"
      ],
      "text/plain": [
       "     Order Number Order Status     Order Date (UTC)     Order Time (UTC)  \\\n",
       "0  GCRM-AT7M-559H    Completed  2024-01-01 00:00:00  1900-01-01 15:07:00   \n",
       "1  Y49A-P5DM-559H    Completed  2024-01-01 00:00:00  1900-01-01 15:29:00   \n",
       "2  SYHS-AZC9-559H    Completed  2024-01-01 00:00:00  1900-01-01 18:18:00   \n",
       "3  HEYQ-7JPM-559H    Completed  2024-01-01 00:00:00  1900-01-01 19:48:00   \n",
       "4  WAZY-9VGT-559H    Completed  2024-01-01 00:00:00  1900-01-01 19:59:00   \n",
       "\n",
       "  Order Device Processed by System?  Customer ID  Broker ID  \\\n",
       "0      desktop                False      54654.0    54654.0   \n",
       "1      desktop                False      82872.0    53590.0   \n",
       "2      desktop                False      71125.0    80976.0   \n",
       "3      desktop                False      35019.0    80976.0   \n",
       "4      desktop                False      37182.0    80976.0   \n",
       "\n",
       "                                             Product  Product ID  ...  \\\n",
       "0  TNA x Jaybird Cozy Fleece Boyfriend Hold Space...     15159.0  ...   \n",
       "1                             Bottled Water- Toronto     14825.0  ...   \n",
       "2                           Bottled Water- Vancouver     14819.0  ...   \n",
       "3                           Bottled Water- Vancouver     14819.0  ...   \n",
       "4                           Bottled Water- Vancouver     14819.0  ...   \n",
       "\n",
       "   Line Subtotal  Original Price Line Tax Line Total Order Payment Method(s)  \\\n",
       "0            0.0           105.0     0.00       0.00               No Charge   \n",
       "1            2.5             2.5     0.33       2.83              Mastercard   \n",
       "2            2.5             2.5     0.13       2.63                    Visa   \n",
       "3            2.5             2.5     0.13       2.63                    Visa   \n",
       "4            2.5             2.5     0.13       2.63                    Visa   \n",
       "\n",
       "  Purchase Location Fulfillment Location Fulfillment Region Unnamed: 28  \\\n",
       "0          In-Store            Yorkville            Toronto         NaN   \n",
       "1          In-Store           Queen West            Toronto         NaN   \n",
       "2          In-Store             Yaletown          Vancouver         NaN   \n",
       "3          In-Store             Yaletown          Vancouver         NaN   \n",
       "4          In-Store             Yaletown          Vancouver         NaN   \n",
       "\n",
       "      Unnamed: 29  \n",
       "0  =sum(X2:X9254)  \n",
       "1             NaN  \n",
       "2  =sum(V2:V9254)  \n",
       "3             NaN  \n",
       "4             NaN  \n",
       "\n",
       "[5 rows x 30 columns]"
      ]
     },
     "execution_count": 38,
     "metadata": {},
     "output_type": "execute_result"
    }
   ],
   "source": [
    "data = pd.read_csv(\"order_detail.csv\")\n",
    "data.head()"
   ]
  },
  {
   "cell_type": "markdown",
   "metadata": {},
   "source": [
    "## C. Exploratory Data Analysis\n",
    "\n",
    "Some brief EDA to search for null values & understand data\n",
    "- Look at size of data\n",
    "- Search for null values\n"
   ]
  },
  {
   "cell_type": "code",
   "execution_count": 39,
   "metadata": {},
   "outputs": [
    {
     "data": {
      "text/plain": [
       "Index(['Order Number', 'Order Status', 'Order Date (UTC)', 'Order Time (UTC)',\n",
       "       'Order Device', 'Processed by System?', 'Customer ID', 'Broker ID',\n",
       "       'Product', 'Product ID', 'Variant ID', 'Product Barcode', 'Product SKU',\n",
       "       'Product Color', 'Product Size', 'Product Type', 'Line Status',\n",
       "       'Transaction Date', 'Currency', 'Line Quantity', 'Line Subtotal',\n",
       "       'Original Price', 'Line Tax', 'Line Total', 'Order Payment Method(s)',\n",
       "       'Purchase Location', 'Fulfillment Location', 'Fulfillment Region',\n",
       "       'Unnamed: 28', 'Unnamed: 29'],\n",
       "      dtype='object')"
      ]
     },
     "execution_count": 39,
     "metadata": {},
     "output_type": "execute_result"
    }
   ],
   "source": [
    "# looking at the columns\n",
    "data.columns"
   ]
  },
  {
   "cell_type": "code",
   "execution_count": 40,
   "metadata": {},
   "outputs": [
    {
     "data": {
      "text/plain": [
       "(9255, 30)"
      ]
     },
     "execution_count": 40,
     "metadata": {},
     "output_type": "execute_result"
    }
   ],
   "source": [
    "# looking at the size of the data\n",
    "data.shape"
   ]
  },
  {
   "cell_type": "code",
   "execution_count": 41,
   "metadata": {},
   "outputs": [
    {
     "data": {
      "text/plain": [
       "<bound method DataFrame.info of         Order Number Order Status     Order Date (UTC)     Order Time (UTC)  \\\n",
       "0     GCRM-AT7M-559H    Completed  2024-01-01 00:00:00  1900-01-01 15:07:00   \n",
       "1     Y49A-P5DM-559H    Completed  2024-01-01 00:00:00  1900-01-01 15:29:00   \n",
       "2     SYHS-AZC9-559H    Completed  2024-01-01 00:00:00  1900-01-01 18:18:00   \n",
       "3     HEYQ-7JPM-559H    Completed  2024-01-01 00:00:00  1900-01-01 19:48:00   \n",
       "4     WAZY-9VGT-559H    Completed  2024-01-01 00:00:00  1900-01-01 19:59:00   \n",
       "...              ...          ...                  ...                  ...   \n",
       "9250  ZWYZ-RN9B-55NR    Completed  2024-06-15 00:00:00  1900-01-01 20:25:00   \n",
       "9251  F2K9-XBXQ-55NR    Completed  2024-06-15 00:00:00  1900-01-01 20:32:00   \n",
       "9252  D8CR-BGXW-55NR    Completed  2024-06-15 00:00:00  1900-01-01 23:23:00   \n",
       "9253             NaN          NaN                  NaN                  NaN   \n",
       "9254             NaN          NaN                  NaN                  NaN   \n",
       "\n",
       "     Order Device Processed by System?  Customer ID  Broker ID  \\\n",
       "0         desktop                False      54654.0    54654.0   \n",
       "1         desktop                False      82872.0    53590.0   \n",
       "2         desktop                False      71125.0    80976.0   \n",
       "3         desktop                False      35019.0    80976.0   \n",
       "4         desktop                False      37182.0    80976.0   \n",
       "...           ...                  ...          ...        ...   \n",
       "9250          NaN                False     103663.0    69032.0   \n",
       "9251      desktop                False      94539.0    69032.0   \n",
       "9252      desktop                False      50763.0    77629.0   \n",
       "9253          NaN                  NaN          NaN        NaN   \n",
       "9254          NaN                  NaN          NaN        NaN   \n",
       "\n",
       "                                                Product  Product ID  ...  \\\n",
       "0     TNA x Jaybird Cozy Fleece Boyfriend Hold Space...     15159.0  ...   \n",
       "1                                Bottled Water- Toronto     14825.0  ...   \n",
       "2                              Bottled Water- Vancouver     14819.0  ...   \n",
       "3                              Bottled Water- Vancouver     14819.0  ...   \n",
       "4                              Bottled Water- Vancouver     14819.0  ...   \n",
       "...                                                 ...         ...  ...   \n",
       "9250                             Bottled Water- Toronto     14825.0  ...   \n",
       "9251                             Bottled Water- Toronto     14825.0  ...   \n",
       "9252                           Bottled Water- Vancouver     14819.0  ...   \n",
       "9253                                                NaN         NaN  ...   \n",
       "9254                                                NaN         NaN  ...   \n",
       "\n",
       "      Line Subtotal  Original Price Line Tax Line Total  \\\n",
       "0               0.0           105.0     0.00       0.00   \n",
       "1               2.5             2.5     0.33       2.83   \n",
       "2               2.5             2.5     0.13       2.63   \n",
       "3               2.5             2.5     0.13       2.63   \n",
       "4               2.5             2.5     0.13       2.63   \n",
       "...             ...             ...      ...        ...   \n",
       "9250            2.5             2.5     0.33       2.83   \n",
       "9251            2.5             2.5     0.33       2.83   \n",
       "9252            2.5             2.5     0.13       2.63   \n",
       "9253            NaN             NaN      NaN        NaN   \n",
       "9254            NaN             NaN      NaN        NaN   \n",
       "\n",
       "     Order Payment Method(s) Purchase Location Fulfillment Location  \\\n",
       "0                  No Charge          In-Store            Yorkville   \n",
       "1                 Mastercard          In-Store           Queen West   \n",
       "2                       Visa          In-Store             Yaletown   \n",
       "3                       Visa          In-Store             Yaletown   \n",
       "4                       Visa          In-Store             Yaletown   \n",
       "...                      ...               ...                  ...   \n",
       "9250                    Visa          In-Store           Queen West   \n",
       "9251                    Visa          In-Store           Queen West   \n",
       "9252                    Visa          In-Store             Yaletown   \n",
       "9253                     NaN               NaN                  NaN   \n",
       "9254                     NaN               NaN                  NaN   \n",
       "\n",
       "     Fulfillment Region Unnamed: 28     Unnamed: 29  \n",
       "0               Toronto         NaN  =sum(X2:X9254)  \n",
       "1               Toronto         NaN             NaN  \n",
       "2             Vancouver         NaN  =sum(V2:V9254)  \n",
       "3             Vancouver         NaN             NaN  \n",
       "4             Vancouver         NaN             NaN  \n",
       "...                 ...         ...             ...  \n",
       "9250            Toronto         NaN             NaN  \n",
       "9251            Toronto         NaN             NaN  \n",
       "9252          Vancouver         NaN             NaN  \n",
       "9253                NaN         NaN             NaN  \n",
       "9254                NaN         NaN             NaN  \n",
       "\n",
       "[9255 rows x 30 columns]>"
      ]
     },
     "execution_count": 41,
     "metadata": {},
     "output_type": "execute_result"
    }
   ],
   "source": [
    "# summary info about the data\n",
    "data.info"
   ]
  },
  {
   "cell_type": "code",
   "execution_count": 47,
   "metadata": {},
   "outputs": [
    {
     "data": {
      "text/plain": [
       "Order Number                  2\n",
       "Order Status                  2\n",
       "Order Date (UTC)              2\n",
       "Order Time (UTC)             19\n",
       "Order Device               2007\n",
       "Processed by System?          2\n",
       "Customer ID                  17\n",
       "Broker ID                     2\n",
       "Product                       2\n",
       "Product ID                    2\n",
       "Variant ID                    2\n",
       "Product Barcode               2\n",
       "Product SKU                   2\n",
       "Product Color              3718\n",
       "Product Size               3856\n",
       "Product Type                  2\n",
       "Line Status                   2\n",
       "Transaction Date              2\n",
       "Currency                      2\n",
       "Line Quantity                 2\n",
       "Line Subtotal                 2\n",
       "Original Price                2\n",
       "Line Tax                      2\n",
       "Line Total                    2\n",
       "Order Payment Method(s)       2\n",
       "Purchase Location             2\n",
       "Fulfillment Location          2\n",
       "Fulfillment Region            2\n",
       "Unnamed: 28                9255\n",
       "Unnamed: 29                9253\n",
       "dtype: int64"
      ]
     },
     "execution_count": 47,
     "metadata": {},
     "output_type": "execute_result"
    }
   ],
   "source": [
    "# looking for null values\n",
    "data.isnull().sum()"
   ]
  },
  {
   "cell_type": "markdown",
   "metadata": {},
   "source": [
    "## D. Plotting Weekly Sales"
   ]
  },
  {
   "cell_type": "code",
   "execution_count": 36,
   "metadata": {},
   "outputs": [],
   "source": [
    "data = pd.read_csv(\"order_detail.csv\")\n",
    "data['Order Date (UTC)'] = pd.to_datetime(data['Order Date (UTC)'])\n",
    "\n",
    "data.set_index('Order Date (UTC)', inplace = True)\n",
    "\n",
    "weekly_data = data['Original Price'].resample('W').sum()"
   ]
  },
  {
   "cell_type": "code",
   "execution_count": 46,
   "metadata": {},
   "outputs": [
    {
     "data": {
      "image/png": "[encoded data removed]",
      "text/plain": [
       "<Figure size 1000x500 with 1 Axes>"
      ]
     },
     "metadata": {},
     "output_type": "display_data"
    }
   ],
   "source": [
    "plt.figure(figsize=(10, 5))\n",
    "plt.plot(weekly_data.index, weekly_data.values, marker='o')\n",
    "\n",
    "\n",
    "plt.title('Weekly Sales')\n",
    "plt.xlabel('Date')\n",
    "plt.ylabel('Sales Amt ($)')\n",
    "\n",
    "\n",
    "plt.show()"
   ]
  },
  {
   "cell_type": "code",
   "execution_count": null,
   "metadata": {},
   "outputs": [],
   "source": []
  }
 ],
 "metadata": {
  "kernelspec": {
   "display_name": "target",
   "language": "python",
   "name": "python3"
  },
  "language_info": {
   "codemirror_mode": {
    "name": "ipython",
    "version": 3
   },
   "file_extension": ".py",
   "mimetype": "text/x-python",
   "name": "python",
   "nbconvert_exporter": "python",
   "pygments_lexer": "ipython3",
   "version": "3.12.3"
  }
 },
 "nbformat": 4,
 "nbformat_minor": 2
}
